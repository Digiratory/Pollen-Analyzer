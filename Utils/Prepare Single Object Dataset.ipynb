{
 "cells": [
  {
   "cell_type": "code",
   "execution_count": null,
   "id": "381ba3f5-90ca-45ed-b244-aafc871918f3",
   "metadata": {
    "editable": true,
    "slideshow": {
     "slide_type": ""
    },
    "tags": []
   },
   "outputs": [],
   "source": [
    "from glob import glob\n",
    "import os\n",
    "from tqdm.notebook import tqdm\n",
    "import matplotlib.pyplot as plt\n",
    "import numpy as np\n",
    "from skimage import data, io\n",
    "from skimage.color import label2rgb\n",
    "from skimage.filters import sobel\n",
    "from skimage.measure import label\n",
    "from skimage.segmentation import expand_labels, watershed\n",
    "from skimage.color import rgb2gray\n",
    "import matplotlib.pyplot as plt\n",
    "import matplotlib.patches as mpatches\n",
    "\n",
    "from skimage import segmentation\n",
    "from skimage import data, restoration, util\n",
    "from skimage import data, morphology\n",
    "from skimage.filters import threshold_otsu, threshold_yen\n",
    "from skimage.segmentation import clear_border\n",
    "from skimage.measure import label, regionprops\n",
    "from skimage.morphology import closing, square, area_closing\n",
    "from skimage.color import label2rgb\n",
    "import numpy as np\n",
    "import matplotlib.pyplot as plt\n",
    "from scipy import ndimage as ndi\n",
    "\n",
    "from skimage.segmentation import watershed\n",
    "from skimage.feature import peak_local_max\n",
    "plt.rcParams['figure.figsize'] = [10, 5]"
   ]
  },
  {
   "cell_type": "code",
   "execution_count": null,
   "id": "ae5c9117-007b-4f9f-98e0-f0229ff7af68",
   "metadata": {
    "tags": []
   },
   "outputs": [],
   "source": [
    "DATASET_ROOT = r\"./pollen_dataset/\"\n",
    "OBJECTS_ROOT_1 = r\"./pollen_dataset_stage_1/\""
   ]
  },
  {
   "cell_type": "code",
   "execution_count": null,
   "id": "65efc068-5334-4a84-973a-968c22a2ad29",
   "metadata": {
    "tags": []
   },
   "outputs": [],
   "source": [
    "all_images = glob(os.path.join(DATASET_ROOT, \"**\", \"*.jpg\"), recursive=True)\n",
    "print(f\"Total amount of images: {len(all_images)}\")"
   ]
  },
  {
   "cell_type": "markdown",
   "id": "b1f63e6c-06fe-4ded-b560-79ee71f8d94a",
   "metadata": {
    "editable": false,
    "slideshow": {
     "slide_type": ""
    },
    "tags": []
   },
   "source": [
    "# Visualisation "
   ]
  },
  {
   "cell_type": "code",
   "execution_count": null,
   "id": "83862dbf-b800-4baa-8488-13a296293f8d",
   "metadata": {
    "editable": true,
    "slideshow": {
     "slide_type": ""
    },
    "tags": []
   },
   "outputs": [],
   "source": [
    "def draw_detections(image, label_image):\n",
    "    # to make the background transparent, pass the value of `bg_label`,\n",
    "    # and leave `bg_color` as `None` and `kind` as `overlay`\n",
    "    image_label_overlay = label2rgb(label_image, image=image, bg_label=0)\n",
    "    \n",
    "    fig, [ax1, ax2] = plt.subplots(nrows=1, ncols=2, figsize=(6, 3))\n",
    "    ax1.imshow(image)\n",
    "    ax2.imshow(image_label_overlay)\n",
    "    # for region in regionprops(label_image):\n",
    "    #     # draw rectangle around segmented coins\n",
    "    #     minr, minc, maxr, maxc = region.bbox\n",
    "    #     rect = mpatches.Rectangle(\n",
    "    #         (minc, minr),\n",
    "    #         maxc - minc,\n",
    "    #         maxr - minr,\n",
    "    #         fill=False,\n",
    "    #         edgecolor='red',\n",
    "    #         linewidth=2,\n",
    "    #     )\n",
    "    #     ax.add_patch(rect)\n",
    "    \n",
    "    ax1.set_axis_off()\n",
    "    ax2.set_axis_off()\n",
    "    plt.tight_layout()\n",
    "    plt.show()"
   ]
  },
  {
   "cell_type": "markdown",
   "id": "8a4a7c68-8130-42e7-a4d3-906f40e5e502",
   "metadata": {
    "editable": true,
    "slideshow": {
     "slide_type": ""
    },
    "tags": []
   },
   "source": [
    "# Detect objects"
   ]
  },
  {
   "cell_type": "code",
   "execution_count": null,
   "id": "6c1f824a-0ebc-4f8c-b4ae-830de56b7d71",
   "metadata": {
    "editable": true,
    "slideshow": {
     "slide_type": ""
    },
    "tags": []
   },
   "outputs": [],
   "source": [
    "def object_detection_stage(image_rgb, radius=50):\n",
    "    image_rgb = np.copy(image_rgb)\n",
    "    image = rgb2gray(image_rgb)\n",
    "    # apply threshold\n",
    "    thresh = threshold_yen(image)\n",
    "    bw = closing(image < thresh, square(25))\n",
    "    bw =  morphology.remove_small_holes(\n",
    "        morphology.remove_small_objects(bw, 5000), 5000\n",
    "    )\n",
    "    bw = morphology.isotropic_erosion(bw, radius)\n",
    "    bw = morphology.isotropic_dilation(bw, radius)\n",
    "    \n",
    "    # # remove artifacts connected to image border\n",
    "    # cleared = clear_border(bw)\n",
    "    # label image regions\n",
    "    label_image = label(bw)\n",
    "    return label_image"
   ]
  },
  {
   "cell_type": "code",
   "execution_count": null,
   "id": "57c3c9ef-59ad-411f-b705-0723d7101564",
   "metadata": {},
   "outputs": [],
   "source": [
    "image_rgb = io.imread(all_images[2])\n",
    "label_image = object_detection_stage(image_rgb)\n",
    "draw_detections(image_rgb, label_image)"
   ]
  },
  {
   "cell_type": "markdown",
   "id": "5bc3cd2a-1e8e-4044-aa7d-16d9a5ec1030",
   "metadata": {},
   "source": [
    "# Extract detected objects"
   ]
  },
  {
   "cell_type": "markdown",
   "id": "7b2be093-0933-40c0-9ec6-b8f6ac49cc3a",
   "metadata": {},
   "source": [
    "# Separate Objects"
   ]
  },
  {
   "cell_type": "code",
   "execution_count": null,
   "id": "d7675a6b-2c58-4c12-973f-84802cc6ce4a",
   "metadata": {
    "tags": []
   },
   "outputs": [],
   "source": [
    "def extract_objects(image_rgb, labels_image, min_distance, padding):\n",
    "    labels = ndi.binary_fill_holes(labels_image)\n",
    "    labels = morphology.binary_erosion(labels)\n",
    "    labels = morphology.binary_dilation(labels).astype(np.uint8)\n",
    "    \n",
    "    # # Now we want to separate the two objects in image\n",
    "    # # Generate the markers as local maxima of the distance to the background\n",
    "    distance = ndi.distance_transform_edt(labels)\n",
    "    coords = peak_local_max(distance, footprint=np.ones((3, 3)), labels=labels, min_distance=min_distance)\n",
    "    if len(coords) > 0:\n",
    "        mask = np.zeros(distance.shape, dtype=bool)\n",
    "        mask[tuple(coords.T)] = True\n",
    "        draw_detections(distance, distance)\n",
    "        markers, _ = ndi.label(mask)\n",
    "        labels = watershed(-distance, markers, mask=labels)\n",
    "\n",
    "    for region in regionprops(labels):\n",
    "        # print(image_rgb_patch.shape)\n",
    "        # print(region.bbox)\n",
    "        minr, minc, maxr, maxc = region.bbox    \n",
    "        # print(minr, minc, maxr, maxc)\n",
    "        minr, minc, maxr, maxc = max(0, minr-padding), max(0, minc-padding), min(image_rgb.shape[0]-1, maxr+padding), min(image_rgb.shape[1]-1, maxc+padding)\n",
    "        # print(minr, minc, maxr, maxc)\n",
    "        label_patch = np.copy(labels[minr:maxr, minc:maxc])\n",
    "        label_patch = clear_border(label_patch)\n",
    "        image_rgb_patch = np.copy(image_rgb[minr:maxr, minc:maxc])\n",
    "        image_rgb_patch = np.where((label_patch > 0)[...,None], image_rgb_patch, 0).astype(np.uint8)\n",
    "        draw_detections(image_rgb_patch, label_patch)\n",
    "    # candidates = []\n",
    "    \n",
    "\n",
    "def object_separation_stage(image_rgb, labels, area_threshold = 20, padding=10, min_distance=100):\n",
    "    image_rgb = np.copy(image_rgb)\n",
    "    for region in regionprops(labels):\n",
    "        # draw rectangle around segmented coins\n",
    "        minr, minc, maxr, maxc = region.bbox            \n",
    "        minr, minc, maxr, maxc = max(0, minr-padding), max(0, minc-padding), min(image_rgb.shape[0]-1, maxr+padding), min(image_rgb.shape[1]-1, maxc+padding)\n",
    "        \n",
    "        label_patch = np.copy(labels[minr:maxr, minc:maxc])\n",
    "        label_patch = clear_border(label_patch)\n",
    "        image_rgb_patch = np.copy(image_rgb[minr:maxr, minc:maxc])\n",
    "        image_rgb_patch = np.where((label_patch > 0)[...,None], image_rgb_patch, 0).astype(np.uint8)\n",
    "        extract_objects(image_rgb_patch, label_patch, min_distance, padding)\n",
    "\n",
    "image_rgb = io.imread(all_images[2])\n",
    "label_image = object_detection_stage(image_rgb)\n",
    "object_separation_stage(image_rgb, label_image)"
   ]
  },
  {
   "cell_type": "code",
   "execution_count": null,
   "id": "e88fdacb-b123-48d1-80f3-23d09f35d9a3",
   "metadata": {},
   "outputs": [],
   "source": [
    "for idx, image_path in tqdm(enumerate(all_images)):\n",
    "    if idx % 20 == 0:\n",
    "        image_rgb = io.imread(image_path)\n",
    "        label_image = object_detection_stage(image_rgb)\n",
    "        object_separation_stage(image_rgb, label_image)\n",
    "    "
   ]
  },
  {
   "cell_type": "code",
   "execution_count": null,
   "id": "4b9853a7-f030-42a0-a609-6d3c6ff50c3d",
   "metadata": {
    "tags": []
   },
   "outputs": [],
   "source": [
    "for imx, path in enumerate(tqdm(all_images)):\n",
    "    rel_path = os.path.relpath(path, start=DATASET_ROOT)\n",
    "    patch_template = os.path.splitext(rel_path)[0] + \"_{}.jpg\"\n",
    "    patch_template = os.path.join(OBJECTS_ROOT_1, patch_template)\n",
    "    os.makedirs(os.path.dirname(patch_template), exist_ok=True)   \n",
    "    # for i, patch in enumerate(object_detection_stage_1(io.imread(path))):\n",
    "    #     io.imsave(patch_template.format(i), patch)\n",
    "    # if (imx>5):\n",
    "    #     break"
   ]
  },
  {
   "cell_type": "code",
   "execution_count": null,
   "id": "4e76049d-1d36-4497-90dc-0853966920bc",
   "metadata": {},
   "outputs": [],
   "source": []
  }
 ],
 "metadata": {
  "kernelspec": {
   "display_name": "Python 3 (ipykernel)",
   "language": "python",
   "name": "python3"
  },
  "language_info": {
   "codemirror_mode": {
    "name": "ipython",
    "version": 3
   },
   "file_extension": ".py",
   "mimetype": "text/x-python",
   "name": "python",
   "nbconvert_exporter": "python",
   "pygments_lexer": "ipython3",
   "version": "3.11.8"
  },
  "toc": {
   "base_numbering": 0
  }
 },
 "nbformat": 4,
 "nbformat_minor": 5
}
